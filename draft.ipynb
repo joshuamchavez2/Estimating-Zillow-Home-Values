{
 "cells": [
  {
   "cell_type": "code",
   "execution_count": 2,
   "id": "b1801349",
   "metadata": {},
   "outputs": [],
   "source": [
    "# Math \n",
    "from math import sqrt\n",
    "from scipy import stats\n",
    "import statistics\n",
    "import os\n",
    "\n",
    "# General\n",
    "import numpy as np\n",
    "import pandas as pd\n",
    "\n",
    "# Sklearn Modeling\n",
    "from sklearn.model_selection import train_test_split\n",
    "from sklearn.tree import DecisionTreeClassifier\n",
    "from sklearn.tree import export_graphviz\n",
    "from sklearn.metrics import classification_report\n",
    "from sklearn.metrics import confusion_matrix\n",
    "from sklearn.ensemble import RandomForestClassifier\n",
    "from sklearn.neighbors import KNeighborsClassifier\n",
    "from sklearn.linear_model import LogisticRegression\n",
    "from sklearn.feature_selection import SelectKBest, f_regression\n",
    "from sklearn.metrics import mean_squared_error\n",
    "from sklearn.linear_model import LinearRegression, LassoLars, TweedieRegressor\n",
    "from sklearn.preprocessing import PolynomialFeatures\n",
    "from sklearn.metrics import mean_squared_error\n",
    "from sklearn.metrics import explained_variance_score\n",
    "import sklearn.preprocessing\n",
    "\n",
    "# Visuals\n",
    "import matplotlib.pyplot as plt\n",
    "import seaborn as sns\n",
    "from graphviz import Graph\n",
    "from tabulate import tabulate\n",
    "\n",
    "# Custom Module's\n",
    "\n",
    "from wrangle import acquire_zillow_first, acquire_zillow_second\n",
    "#import evaluate \n",
    "#import explore\n",
    "#import prepare\n",
    "from pydataset import data\n",
    "\n",
    "#import evaluate\n",
    "import warnings\n",
    "warnings.filterwarnings(\"ignore\")"
   ]
  },
  {
   "cell_type": "code",
   "execution_count": 3,
   "id": "04ec399f",
   "metadata": {},
   "outputs": [],
   "source": [
    "df = acquire_zillow_first()\n",
    "df2 = acquire_zillow_second()"
   ]
  },
  {
   "cell_type": "code",
   "execution_count": 4,
   "id": "102d8713",
   "metadata": {},
   "outputs": [
    {
     "name": "stdout",
     "output_type": "stream",
     "text": [
      "<class 'pandas.core.frame.DataFrame'>\n",
      "RangeIndex: 28124 entries, 0 to 28123\n",
      "Data columns (total 4 columns):\n",
      " #   Column     Non-Null Count  Dtype  \n",
      "---  ------     --------------  -----  \n",
      " 0   area       28077 non-null  float64\n",
      " 1   bedrooms   28124 non-null  float64\n",
      " 2   bathrooms  28124 non-null  float64\n",
      " 3   tax_value  28123 non-null  float64\n",
      "dtypes: float64(4)\n",
      "memory usage: 879.0 KB\n"
     ]
    }
   ],
   "source": [
    "df.info()"
   ]
  },
  {
   "cell_type": "code",
   "execution_count": 5,
   "id": "65f001e8",
   "metadata": {},
   "outputs": [
    {
     "name": "stdout",
     "output_type": "stream",
     "text": [
      "<class 'pandas.core.frame.DataFrame'>\n",
      "RangeIndex: 28124 entries, 0 to 28123\n",
      "Data columns (total 63 columns):\n",
      " #   Column                      Non-Null Count  Dtype  \n",
      "---  ------                      --------------  -----  \n",
      " 0   id                          28124 non-null  int64  \n",
      " 1   parcelid                    28124 non-null  int64  \n",
      " 2   airconditioningtypeid       7303 non-null   float64\n",
      " 3   architecturalstyletypeid    33 non-null     float64\n",
      " 4   basementsqft                25 non-null     float64\n",
      " 5   bathrooms                   28124 non-null  float64\n",
      " 6   bedrooms                    28124 non-null  float64\n",
      " 7   buildingclasstypeid         0 non-null      object \n",
      " 8   buildingqualitytypeid       17811 non-null  float64\n",
      " 9   calculatedbathnbr           28050 non-null  float64\n",
      " 10  decktypeid                  213 non-null    float64\n",
      " 11  finishedfloor1squarefeet    2439 non-null   float64\n",
      " 12  area                        28077 non-null  float64\n",
      " 13  finishedsquarefeet12        27999 non-null  float64\n",
      " 14  finishedsquarefeet13        0 non-null      object \n",
      " 15  finishedsquarefeet15        0 non-null      object \n",
      " 16  finishedsquarefeet50        2439 non-null   float64\n",
      " 17  finishedsquarefeet6         78 non-null     float64\n",
      " 18  fips                        28124 non-null  float64\n",
      " 19  fireplacecnt                4090 non-null   float64\n",
      " 20  fullbathcnt                 28050 non-null  float64\n",
      " 21  garagecarcnt                9953 non-null   float64\n",
      " 22  garagetotalsqft             9953 non-null   float64\n",
      " 23  hashottuborspa              882 non-null    float64\n",
      " 24  heatingorsystemtypeid       17959 non-null  float64\n",
      " 25  latitude                    28124 non-null  float64\n",
      " 26  longitude                   28124 non-null  float64\n",
      " 27  lotsizesquarefeet           27921 non-null  float64\n",
      " 28  poolcnt                     6130 non-null   float64\n",
      " 29  poolsizesum                 494 non-null    float64\n",
      " 30  pooltypeid10                243 non-null    float64\n",
      " 31  pooltypeid2                 639 non-null    float64\n",
      " 32  pooltypeid7                 5484 non-null   float64\n",
      " 33  propertycountylandusecode   28124 non-null  object \n",
      " 34  propertylandusetypeid       28124 non-null  float64\n",
      " 35  propertyzoningdesc          17873 non-null  object \n",
      " 36  rawcensustractandblock      28124 non-null  float64\n",
      " 37  regionidcity                27558 non-null  float64\n",
      " 38  regionidcounty              28124 non-null  float64\n",
      " 39  regionidneighborhood        10271 non-null  float64\n",
      " 40  regionidzip                 28107 non-null  float64\n",
      " 41  roomcnt                     28124 non-null  float64\n",
      " 42  storytypeid                 25 non-null     float64\n",
      " 43  threequarterbathnbr         3772 non-null   float64\n",
      " 44  typeconstructiontypeid      35 non-null     float64\n",
      " 45  unitcnt                     17868 non-null  float64\n",
      " 46  yardbuildingsqft17          1111 non-null   float64\n",
      " 47  yardbuildingsqft26          43 non-null     float64\n",
      " 48  yearbuilt                   28053 non-null  float64\n",
      " 49  numberofstories             8002 non-null   float64\n",
      " 50  fireplaceflag               38 non-null     float64\n",
      " 51  structuretaxvaluedollarcnt  28086 non-null  float64\n",
      " 52  tax_value                   28123 non-null  float64\n",
      " 53  assessmentyear              28124 non-null  float64\n",
      " 54  landtaxvaluedollarcnt       28123 non-null  float64\n",
      " 55  taxamount                   28123 non-null  float64\n",
      " 56  taxdelinquencyflag          1000 non-null   object \n",
      " 57  taxdelinquencyyear          1000 non-null   float64\n",
      " 58  censustractandblock         28046 non-null  float64\n",
      " 59  id                          28124 non-null  int64  \n",
      " 60  parcelid                    28124 non-null  int64  \n",
      " 61  logerror                    28124 non-null  float64\n",
      " 62  transactiondate             28124 non-null  object \n",
      "dtypes: float64(52), int64(4), object(7)\n",
      "memory usage: 13.5+ MB\n"
     ]
    }
   ],
   "source": [
    "df2.info()"
   ]
  },
  {
   "cell_type": "code",
   "execution_count": null,
   "id": "24e2416f",
   "metadata": {},
   "outputs": [],
   "source": []
  }
 ],
 "metadata": {
  "kernelspec": {
   "display_name": "Python 3",
   "language": "python",
   "name": "python3"
  },
  "language_info": {
   "codemirror_mode": {
    "name": "ipython",
    "version": 3
   },
   "file_extension": ".py",
   "mimetype": "text/x-python",
   "name": "python",
   "nbconvert_exporter": "python",
   "pygments_lexer": "ipython3",
   "version": "3.8.8"
  }
 },
 "nbformat": 4,
 "nbformat_minor": 5
}
