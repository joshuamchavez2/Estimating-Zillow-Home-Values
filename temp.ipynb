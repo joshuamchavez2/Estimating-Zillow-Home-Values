{
 "cells": [
  {
   "cell_type": "code",
   "execution_count": 26,
   "id": "edcda4fe",
   "metadata": {},
   "outputs": [],
   "source": [
    "# Math \n",
    "from math import sqrt\n",
    "from scipy import stats\n",
    "import statistics\n",
    "import os\n",
    "\n",
    "# General\n",
    "import numpy as np\n",
    "import pandas as pd\n",
    "\n",
    "# Sklearn Modeling\n",
    "from sklearn.model_selection import train_test_split\n",
    "from sklearn.tree import DecisionTreeClassifier\n",
    "from sklearn.tree import export_graphviz\n",
    "from sklearn.metrics import classification_report\n",
    "from sklearn.metrics import confusion_matrix\n",
    "from sklearn.ensemble import RandomForestClassifier\n",
    "from sklearn.neighbors import KNeighborsClassifier\n",
    "from sklearn.linear_model import LogisticRegression\n",
    "from sklearn.feature_selection import SelectKBest, f_regression\n",
    "from sklearn.metrics import mean_squared_error\n",
    "from sklearn.linear_model import LinearRegression, LassoLars, TweedieRegressor\n",
    "from sklearn.preprocessing import PolynomialFeatures\n",
    "from sklearn.metrics import mean_squared_error\n",
    "from sklearn.metrics import explained_variance_score\n",
    "from sklearn.preprocessing import MinMaxScaler\n",
    "import sklearn.preprocessing\n",
    "\n",
    "# Visuals\n",
    "import matplotlib.pyplot as plt\n",
    "import seaborn as sns\n",
    "from graphviz import Graph\n",
    "from tabulate import tabulate\n",
    "\n",
    "# Custom Module's\n",
    "\n",
    "from wrangle import wrangle_zillow_modeling, wrangle_zillow_exploration\n",
    "import explore\n",
    "import acquire\n",
    "\n",
    "#import evaluate\n",
    "import warnings\n",
    "warnings.filterwarnings(\"ignore\")"
   ]
  },
  {
   "cell_type": "code",
   "execution_count": 27,
   "id": "feb9612b",
   "metadata": {},
   "outputs": [],
   "source": [
    "df = acquire.acquire_zillow_second()"
   ]
  },
  {
   "cell_type": "code",
   "execution_count": 28,
   "id": "62903161",
   "metadata": {},
   "outputs": [
    {
     "name": "stdout",
     "output_type": "stream",
     "text": [
      "<class 'pandas.core.frame.DataFrame'>\n",
      "Int64Index: 28124 entries, 0 to 28123\n",
      "Data columns (total 6 columns):\n",
      " #   Column     Non-Null Count  Dtype  \n",
      "---  ------     --------------  -----  \n",
      " 0   area       28077 non-null  float64\n",
      " 1   bedrooms   28124 non-null  float64\n",
      " 2   bathrooms  28124 non-null  float64\n",
      " 3   tax_value  28123 non-null  float64\n",
      " 4   has_pool   6130 non-null   float64\n",
      " 5   year       28053 non-null  float64\n",
      "dtypes: float64(6)\n",
      "memory usage: 1.5 MB\n"
     ]
    }
   ],
   "source": [
    "df.info()"
   ]
  },
  {
   "cell_type": "code",
   "execution_count": 29,
   "id": "06c7e1c0",
   "metadata": {},
   "outputs": [],
   "source": [
    "df.has_pool = df.has_pool.fillna(0)"
   ]
  },
  {
   "cell_type": "code",
   "execution_count": 30,
   "id": "394f6146",
   "metadata": {},
   "outputs": [
    {
     "data": {
      "text/plain": [
       "0.0    21994\n",
       "1.0     6130\n",
       "Name: has_pool, dtype: int64"
      ]
     },
     "execution_count": 30,
     "metadata": {},
     "output_type": "execute_result"
    }
   ],
   "source": [
    "df.has_pool.value_counts()"
   ]
  },
  {
   "cell_type": "code",
   "execution_count": 31,
   "id": "43ca9766",
   "metadata": {},
   "outputs": [],
   "source": [
    "df = df.replace(r'^\\s*$', np.nan, regex=True)\n",
    "df = df.dropna()"
   ]
  },
  {
   "cell_type": "code",
   "execution_count": 32,
   "id": "353d5a2f",
   "metadata": {},
   "outputs": [
    {
     "data": {
      "text/plain": [
       "area         0\n",
       "bedrooms     0\n",
       "bathrooms    0\n",
       "tax_value    0\n",
       "has_pool     0\n",
       "year         0\n",
       "dtype: int64"
      ]
     },
     "execution_count": 32,
     "metadata": {},
     "output_type": "execute_result"
    }
   ],
   "source": [
    "df.isnull().sum()"
   ]
  },
  {
   "cell_type": "code",
   "execution_count": 41,
   "id": "125bcbcb",
   "metadata": {},
   "outputs": [
    {
     "name": "stdout",
     "output_type": "stream",
     "text": [
      "<class 'pandas.core.frame.DataFrame'>\n",
      "Int64Index: 24319 entries, 0 to 28123\n",
      "Data columns (total 6 columns):\n",
      " #   Column     Non-Null Count  Dtype  \n",
      "---  ------     --------------  -----  \n",
      " 0   area       24319 non-null  float64\n",
      " 1   bedrooms   24319 non-null  float64\n",
      " 2   bathrooms  24319 non-null  float64\n",
      " 3   tax_value  24319 non-null  float64\n",
      " 4   has_pool   24319 non-null  float64\n",
      " 5   year       24319 non-null  float64\n",
      "dtypes: float64(6)\n",
      "memory usage: 1.3 MB\n"
     ]
    }
   ],
   "source": [
    "len(df)\n",
    "df.info()"
   ]
  },
  {
   "cell_type": "code",
   "execution_count": 34,
   "id": "86e9e1a5",
   "metadata": {},
   "outputs": [],
   "source": [
    "def remove_outliers(df, k, col_list):\n",
    "    ''' remove outliers from a list of columns in a dataframe \n",
    "        and return that dataframe\n",
    "    '''\n",
    "    \n",
    "    for col in col_list:\n",
    "\n",
    "        q1, q3 = df[col].quantile([.25, .75])  # get quartiles\n",
    "        \n",
    "        iqr = q3 - q1   # calculate interquartile range\n",
    "        \n",
    "        upper_bound = q3 + k * iqr   # get upper bound\n",
    "        lower_bound = q1 - k * iqr   # get lower bound\n",
    "\n",
    "        # return dataframe without outliers\n",
    "        \n",
    "        df = df[(df[col] > lower_bound) & (df[col] < upper_bound)]\n",
    "        \n",
    "    return df"
   ]
  },
  {
   "cell_type": "code",
   "execution_count": 35,
   "id": "106a425a",
   "metadata": {},
   "outputs": [],
   "source": [
    "df = remove_outliers(df, 1.5, ['bedrooms', 'bathrooms', 'area', 'tax_value', 'year'])"
   ]
  },
  {
   "cell_type": "code",
   "execution_count": 36,
   "id": "d929cb3a",
   "metadata": {},
   "outputs": [
    {
     "data": {
      "text/plain": [
       "24319"
      ]
     },
     "execution_count": 36,
     "metadata": {},
     "output_type": "execute_result"
    }
   ],
   "source": [
    "len(df)"
   ]
  },
  {
   "cell_type": "code",
   "execution_count": 37,
   "id": "fd7c0512",
   "metadata": {},
   "outputs": [],
   "source": [
    "def add_scaled_columns(train, validate, test, scaler, columns_to_scale):\n",
    "    \n",
    "    # new column names\n",
    "    new_column_names = [c + '_scaled' for c in columns_to_scale]\n",
    "    \n",
    "    # Fit the scaler on the train\n",
    "    scaler.fit(train[columns_to_scale])\n",
    "    \n",
    "    # transform train validate and test\n",
    "    train = pd.concat([\n",
    "        train,\n",
    "        pd.DataFrame(scaler.transform(train[columns_to_scale]), columns=new_column_names, index=train.index),\n",
    "    ], axis=1)\n",
    "    \n",
    "    validate = pd.concat([\n",
    "        validate,\n",
    "        pd.DataFrame(scaler.transform(validate[columns_to_scale]), columns=new_column_names, index=validate.index),\n",
    "    ], axis=1)\n",
    "    \n",
    "    \n",
    "    test = pd.concat([\n",
    "        test,\n",
    "        pd.DataFrame(scaler.transform(test[columns_to_scale]), columns=new_column_names, index=test.index),\n",
    "    ], axis=1)\n",
    "    \n",
    "    return train, validate, test"
   ]
  },
  {
   "cell_type": "code",
   "execution_count": 38,
   "id": "550ab323",
   "metadata": {},
   "outputs": [],
   "source": [
    "train_validate, test = train_test_split(df, test_size=.2, random_state=123)\n",
    "train, validate = train_test_split(train_validate, test_size=.3, random_state=123)\n",
    "columns_to_scale = ['bedrooms', 'bathrooms', 'area', 'has_pool', 'year']\n",
    "train, validate, test = add_scaled_columns(train, validate, test, MinMaxScaler(), columns_to_scale)"
   ]
  },
  {
   "cell_type": "code",
   "execution_count": 42,
   "id": "94eb6959",
   "metadata": {},
   "outputs": [
    {
     "data": {
      "text/html": [
       "<div>\n",
       "<style scoped>\n",
       "    .dataframe tbody tr th:only-of-type {\n",
       "        vertical-align: middle;\n",
       "    }\n",
       "\n",
       "    .dataframe tbody tr th {\n",
       "        vertical-align: top;\n",
       "    }\n",
       "\n",
       "    .dataframe thead th {\n",
       "        text-align: right;\n",
       "    }\n",
       "</style>\n",
       "<table border=\"1\" class=\"dataframe\">\n",
       "  <thead>\n",
       "    <tr style=\"text-align: right;\">\n",
       "      <th></th>\n",
       "      <th>area</th>\n",
       "      <th>bedrooms</th>\n",
       "      <th>bathrooms</th>\n",
       "      <th>tax_value</th>\n",
       "      <th>has_pool</th>\n",
       "      <th>year</th>\n",
       "      <th>bedrooms_scaled</th>\n",
       "      <th>bathrooms_scaled</th>\n",
       "      <th>area_scaled</th>\n",
       "      <th>has_pool_scaled</th>\n",
       "      <th>year_scaled</th>\n",
       "    </tr>\n",
       "  </thead>\n",
       "  <tbody>\n",
       "    <tr>\n",
       "      <th>21748</th>\n",
       "      <td>2300.0</td>\n",
       "      <td>4.0</td>\n",
       "      <td>2.0</td>\n",
       "      <td>440420.0</td>\n",
       "      <td>0.0</td>\n",
       "      <td>1968.0</td>\n",
       "      <td>0.666667</td>\n",
       "      <td>0.333333</td>\n",
       "      <td>0.580729</td>\n",
       "      <td>0.0</td>\n",
       "      <td>0.547170</td>\n",
       "    </tr>\n",
       "    <tr>\n",
       "      <th>11733</th>\n",
       "      <td>1146.0</td>\n",
       "      <td>2.0</td>\n",
       "      <td>1.0</td>\n",
       "      <td>353000.0</td>\n",
       "      <td>0.0</td>\n",
       "      <td>1929.0</td>\n",
       "      <td>0.000000</td>\n",
       "      <td>0.000000</td>\n",
       "      <td>0.205078</td>\n",
       "      <td>0.0</td>\n",
       "      <td>0.179245</td>\n",
       "    </tr>\n",
       "    <tr>\n",
       "      <th>13684</th>\n",
       "      <td>1429.0</td>\n",
       "      <td>2.0</td>\n",
       "      <td>2.0</td>\n",
       "      <td>600515.0</td>\n",
       "      <td>0.0</td>\n",
       "      <td>1938.0</td>\n",
       "      <td>0.000000</td>\n",
       "      <td>0.333333</td>\n",
       "      <td>0.297201</td>\n",
       "      <td>0.0</td>\n",
       "      <td>0.264151</td>\n",
       "    </tr>\n",
       "    <tr>\n",
       "      <th>2829</th>\n",
       "      <td>1216.0</td>\n",
       "      <td>2.0</td>\n",
       "      <td>2.0</td>\n",
       "      <td>228120.0</td>\n",
       "      <td>0.0</td>\n",
       "      <td>1951.0</td>\n",
       "      <td>0.000000</td>\n",
       "      <td>0.333333</td>\n",
       "      <td>0.227865</td>\n",
       "      <td>0.0</td>\n",
       "      <td>0.386792</td>\n",
       "    </tr>\n",
       "    <tr>\n",
       "      <th>17299</th>\n",
       "      <td>2572.0</td>\n",
       "      <td>4.0</td>\n",
       "      <td>3.0</td>\n",
       "      <td>557044.0</td>\n",
       "      <td>0.0</td>\n",
       "      <td>2000.0</td>\n",
       "      <td>0.666667</td>\n",
       "      <td>0.666667</td>\n",
       "      <td>0.669271</td>\n",
       "      <td>0.0</td>\n",
       "      <td>0.849057</td>\n",
       "    </tr>\n",
       "  </tbody>\n",
       "</table>\n",
       "</div>"
      ],
      "text/plain": [
       "         area  bedrooms  bathrooms  tax_value  has_pool    year  \\\n",
       "21748  2300.0       4.0        2.0   440420.0       0.0  1968.0   \n",
       "11733  1146.0       2.0        1.0   353000.0       0.0  1929.0   \n",
       "13684  1429.0       2.0        2.0   600515.0       0.0  1938.0   \n",
       "2829   1216.0       2.0        2.0   228120.0       0.0  1951.0   \n",
       "17299  2572.0       4.0        3.0   557044.0       0.0  2000.0   \n",
       "\n",
       "       bedrooms_scaled  bathrooms_scaled  area_scaled  has_pool_scaled  \\\n",
       "21748         0.666667          0.333333     0.580729              0.0   \n",
       "11733         0.000000          0.000000     0.205078              0.0   \n",
       "13684         0.000000          0.333333     0.297201              0.0   \n",
       "2829          0.000000          0.333333     0.227865              0.0   \n",
       "17299         0.666667          0.666667     0.669271              0.0   \n",
       "\n",
       "       year_scaled  \n",
       "21748     0.547170  \n",
       "11733     0.179245  \n",
       "13684     0.264151  \n",
       "2829      0.386792  \n",
       "17299     0.849057  "
      ]
     },
     "execution_count": 42,
     "metadata": {},
     "output_type": "execute_result"
    }
   ],
   "source": [
    "train.head()"
   ]
  },
  {
   "cell_type": "code",
   "execution_count": null,
   "id": "1f1ad627",
   "metadata": {},
   "outputs": [],
   "source": []
  }
 ],
 "metadata": {
  "kernelspec": {
   "display_name": "Python 3",
   "language": "python",
   "name": "python3"
  },
  "language_info": {
   "codemirror_mode": {
    "name": "ipython",
    "version": 3
   },
   "file_extension": ".py",
   "mimetype": "text/x-python",
   "name": "python",
   "nbconvert_exporter": "python",
   "pygments_lexer": "ipython3",
   "version": "3.8.8"
  }
 },
 "nbformat": 4,
 "nbformat_minor": 5
}
