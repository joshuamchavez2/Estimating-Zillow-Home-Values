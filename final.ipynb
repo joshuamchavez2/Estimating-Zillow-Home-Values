{
 "cells": [
  {
   "cell_type": "code",
   "execution_count": 2,
   "id": "40ae3873",
   "metadata": {},
   "outputs": [],
   "source": [
    "# Math \n",
    "from math import sqrt\n",
    "from scipy import stats\n",
    "import statistics\n",
    "import os\n",
    "\n",
    "# General\n",
    "import numpy as np\n",
    "import pandas as pd\n",
    "\n",
    "# Sklearn Modeling\n",
    "from sklearn.model_selection import train_test_split\n",
    "from sklearn.tree import DecisionTreeClassifier\n",
    "from sklearn.tree import export_graphviz\n",
    "from sklearn.metrics import classification_report\n",
    "from sklearn.metrics import confusion_matrix\n",
    "from sklearn.ensemble import RandomForestClassifier\n",
    "from sklearn.neighbors import KNeighborsClassifier\n",
    "from sklearn.linear_model import LogisticRegression\n",
    "from sklearn.feature_selection import SelectKBest, f_regression\n",
    "from sklearn.metrics import mean_squared_error\n",
    "from sklearn.linear_model import LinearRegression, LassoLars, TweedieRegressor\n",
    "from sklearn.preprocessing import PolynomialFeatures\n",
    "from sklearn.metrics import mean_squared_error\n",
    "from sklearn.metrics import explained_variance_score\n",
    "from sklearn.preprocessing import MinMaxScaler\n",
    "import sklearn.preprocessing\n",
    "\n",
    "# Visuals\n",
    "import matplotlib.pyplot as plt\n",
    "import seaborn as sns\n",
    "from graphviz import Graph\n",
    "from tabulate import tabulate\n",
    "\n",
    "# Custom Module's\n",
    "\n",
    "from wrangle import wrangle_zillow_modeling, wrangle_zillow_exploration, wrangle_zillow_second_modeling\n",
    "from acquire import first_zillow_data, second_zillow_data\n",
    "import explore\n",
    "\n",
    "#import evaluate\n",
    "import warnings\n",
    "warnings.filterwarnings(\"ignore\")"
   ]
  },
  {
   "cell_type": "markdown",
   "id": "9519dffa",
   "metadata": {},
   "source": [
    "# Project Planning"
   ]
  },
  {
   "cell_type": "markdown",
   "id": "9624071f",
   "metadata": {},
   "source": [
    "### Project and Goals"
   ]
  },
  {
   "cell_type": "markdown",
   "id": "207b1d11",
   "metadata": {},
   "source": [
    "### Starting Hypotheses"
   ]
  },
  {
   "cell_type": "markdown",
   "id": "194afc4a",
   "metadata": {},
   "source": [
    "<p style=\"font-family:courier; font-size:150%;\">&nbsp;&nbsp;&nbsp;&nbsp;&nbsp;Area of a house is the only important feature of estimating a houses tax value.  The big idea here is that as size increases so does rooms and bathrooms, therefore, if a house is bigger then it will be more expensive and have a higher tax value.</p>"
   ]
  },
  {
   "cell_type": "markdown",
   "id": "17bb7865",
   "metadata": {},
   "source": [
    "# Executive Summary - Conclusions & Next Steps\n",
    "\n",
    "### Conclusion\n",
    "\n",
    "<p style=\"font-family:courier; font-size:150%;\">&nbsp;&nbsp;&nbsp;&nbsp;&nbsp;My tweedie regressor model's Root Mean Squared Error (RMSE) was \\$219,817.  This beat my baseline RMSE of \\$250,611 by roughly \\$31,000.<br><br>&nbsp;&nbsp;&nbsp;&nbsp;&nbsp;Tax value can be predicted off of area, bedrooms, and bathrooms with a tweedie regressor regression model<br><br>&nbsp;&nbsp;&nbsp;&nbsp;&nbsp;If I had more time, I would have liked to explore and model the many different features of the Zillow database.  I would have also liked to learn more about the domain knowledge of real estate.<br><br></p>"
   ]
  },
  {
   "cell_type": "markdown",
   "id": "df232633",
   "metadata": {},
   "source": [
    "# Data Acquisition"
   ]
  },
  {
   "cell_type": "markdown",
   "id": "a4e24d9f",
   "metadata": {},
   "source": [
    "### First Iteration"
   ]
  },
  {
   "cell_type": "code",
   "execution_count": 3,
   "id": "7e0a0d53",
   "metadata": {},
   "outputs": [],
   "source": [
    "df = first_zillow_data()"
   ]
  },
  {
   "cell_type": "markdown",
   "id": "46fe76b4",
   "metadata": {},
   "source": [
    "### .info(), .head(), .shape, .describe()"
   ]
  },
  {
   "cell_type": "code",
   "execution_count": 4,
   "id": "049b685f",
   "metadata": {},
   "outputs": [
    {
     "name": "stdout",
     "output_type": "stream",
     "text": [
      "<class 'pandas.core.frame.DataFrame'>\n",
      "RangeIndex: 28124 entries, 0 to 28123\n",
      "Data columns (total 4 columns):\n",
      " #   Column     Non-Null Count  Dtype  \n",
      "---  ------     --------------  -----  \n",
      " 0   area       28077 non-null  float64\n",
      " 1   bedrooms   28124 non-null  float64\n",
      " 2   bathrooms  28124 non-null  float64\n",
      " 3   tax_value  28123 non-null  float64\n",
      "dtypes: float64(4)\n",
      "memory usage: 879.0 KB\n"
     ]
    }
   ],
   "source": [
    "df.info()"
   ]
  },
  {
   "cell_type": "code",
   "execution_count": 9,
   "id": "0cbd8cc8",
   "metadata": {},
   "outputs": [
    {
     "data": {
      "text/html": [
       "<div>\n",
       "<style scoped>\n",
       "    .dataframe tbody tr th:only-of-type {\n",
       "        vertical-align: middle;\n",
       "    }\n",
       "\n",
       "    .dataframe tbody tr th {\n",
       "        vertical-align: top;\n",
       "    }\n",
       "\n",
       "    .dataframe thead th {\n",
       "        text-align: right;\n",
       "    }\n",
       "</style>\n",
       "<table border=\"1\" class=\"dataframe\">\n",
       "  <thead>\n",
       "    <tr style=\"text-align: right;\">\n",
       "      <th></th>\n",
       "      <th>area</th>\n",
       "      <th>bedrooms</th>\n",
       "      <th>bathrooms</th>\n",
       "      <th>tax_value</th>\n",
       "    </tr>\n",
       "  </thead>\n",
       "  <tbody>\n",
       "    <tr>\n",
       "      <th>0</th>\n",
       "      <td>1316.0</td>\n",
       "      <td>3.0</td>\n",
       "      <td>2.0</td>\n",
       "      <td>205123.0</td>\n",
       "    </tr>\n",
       "    <tr>\n",
       "      <th>1</th>\n",
       "      <td>1458.0</td>\n",
       "      <td>3.0</td>\n",
       "      <td>2.0</td>\n",
       "      <td>136104.0</td>\n",
       "    </tr>\n",
       "    <tr>\n",
       "      <th>2</th>\n",
       "      <td>1421.0</td>\n",
       "      <td>2.0</td>\n",
       "      <td>1.0</td>\n",
       "      <td>35606.0</td>\n",
       "    </tr>\n",
       "    <tr>\n",
       "      <th>3</th>\n",
       "      <td>2541.0</td>\n",
       "      <td>4.0</td>\n",
       "      <td>3.0</td>\n",
       "      <td>880456.0</td>\n",
       "    </tr>\n",
       "    <tr>\n",
       "      <th>4</th>\n",
       "      <td>1491.0</td>\n",
       "      <td>3.0</td>\n",
       "      <td>2.0</td>\n",
       "      <td>107110.0</td>\n",
       "    </tr>\n",
       "  </tbody>\n",
       "</table>\n",
       "</div>"
      ],
      "text/plain": [
       "     area  bedrooms  bathrooms  tax_value\n",
       "0  1316.0       3.0        2.0   205123.0\n",
       "1  1458.0       3.0        2.0   136104.0\n",
       "2  1421.0       2.0        1.0    35606.0\n",
       "3  2541.0       4.0        3.0   880456.0\n",
       "4  1491.0       3.0        2.0   107110.0"
      ]
     },
     "execution_count": 9,
     "metadata": {},
     "output_type": "execute_result"
    }
   ],
   "source": [
    "df.head()"
   ]
  },
  {
   "cell_type": "code",
   "execution_count": 6,
   "id": "b057a11d",
   "metadata": {},
   "outputs": [
    {
     "data": {
      "text/plain": [
       "(28124, 4)"
      ]
     },
     "execution_count": 6,
     "metadata": {},
     "output_type": "execute_result"
    }
   ],
   "source": [
    "df.shape"
   ]
  },
  {
   "cell_type": "code",
   "execution_count": 8,
   "id": "90cff9b8",
   "metadata": {},
   "outputs": [
    {
     "data": {
      "text/html": [
       "<div>\n",
       "<style scoped>\n",
       "    .dataframe tbody tr th:only-of-type {\n",
       "        vertical-align: middle;\n",
       "    }\n",
       "\n",
       "    .dataframe tbody tr th {\n",
       "        vertical-align: top;\n",
       "    }\n",
       "\n",
       "    .dataframe thead th {\n",
       "        text-align: right;\n",
       "    }\n",
       "</style>\n",
       "<table border=\"1\" class=\"dataframe\">\n",
       "  <thead>\n",
       "    <tr style=\"text-align: right;\">\n",
       "      <th></th>\n",
       "      <th>count</th>\n",
       "      <th>mean</th>\n",
       "      <th>std</th>\n",
       "      <th>min</th>\n",
       "      <th>25%</th>\n",
       "      <th>50%</th>\n",
       "      <th>75%</th>\n",
       "      <th>max</th>\n",
       "    </tr>\n",
       "  </thead>\n",
       "  <tbody>\n",
       "    <tr>\n",
       "      <th>area</th>\n",
       "      <td>28077.0</td>\n",
       "      <td>1934.930014</td>\n",
       "      <td>995.684457</td>\n",
       "      <td>240.0</td>\n",
       "      <td>1278.0</td>\n",
       "      <td>1675.0</td>\n",
       "      <td>2326.0</td>\n",
       "      <td>17245.0</td>\n",
       "    </tr>\n",
       "    <tr>\n",
       "      <th>bedrooms</th>\n",
       "      <td>28124.0</td>\n",
       "      <td>3.309487</td>\n",
       "      <td>0.943073</td>\n",
       "      <td>0.0</td>\n",
       "      <td>3.0</td>\n",
       "      <td>3.0</td>\n",
       "      <td>4.0</td>\n",
       "      <td>12.0</td>\n",
       "    </tr>\n",
       "    <tr>\n",
       "      <th>bathrooms</th>\n",
       "      <td>28124.0</td>\n",
       "      <td>2.316509</td>\n",
       "      <td>1.016983</td>\n",
       "      <td>0.0</td>\n",
       "      <td>2.0</td>\n",
       "      <td>2.0</td>\n",
       "      <td>3.0</td>\n",
       "      <td>11.0</td>\n",
       "    </tr>\n",
       "    <tr>\n",
       "      <th>tax_value</th>\n",
       "      <td>28123.0</td>\n",
       "      <td>535004.915763</td>\n",
       "      <td>707681.057984</td>\n",
       "      <td>1000.0</td>\n",
       "      <td>198636.0</td>\n",
       "      <td>382798.0</td>\n",
       "      <td>632767.0</td>\n",
       "      <td>23858374.0</td>\n",
       "    </tr>\n",
       "  </tbody>\n",
       "</table>\n",
       "</div>"
      ],
      "text/plain": [
       "             count           mean            std     min       25%       50%  \\\n",
       "area       28077.0    1934.930014     995.684457   240.0    1278.0    1675.0   \n",
       "bedrooms   28124.0       3.309487       0.943073     0.0       3.0       3.0   \n",
       "bathrooms  28124.0       2.316509       1.016983     0.0       2.0       2.0   \n",
       "tax_value  28123.0  535004.915763  707681.057984  1000.0  198636.0  382798.0   \n",
       "\n",
       "                75%         max  \n",
       "area         2326.0     17245.0  \n",
       "bedrooms        4.0        12.0  \n",
       "bathrooms       3.0        11.0  \n",
       "tax_value  632767.0  23858374.0  "
      ]
     },
     "execution_count": 8,
     "metadata": {},
     "output_type": "execute_result"
    }
   ],
   "source": [
    "df.describe().T"
   ]
  },
  {
   "cell_type": "markdown",
   "id": "7a34e848",
   "metadata": {},
   "source": [
    "### Distributions"
   ]
  },
  {
   "cell_type": "code",
   "execution_count": 10,
   "id": "8ef98592",
   "metadata": {},
   "outputs": [
    {
     "data": {
      "text/plain": [
       "<AxesSubplot:>"
      ]
     },
     "execution_count": 10,
     "metadata": {},
     "output_type": "execute_result"
    },
    {
     "data": {
      "image/png": "[encoded data removed]",
      "text/plain": [
       "<Figure size 432x288 with 1 Axes>"
      ]
     },
     "metadata": {
      "needs_background": "light"
     },
     "output_type": "display_data"
    }
   ],
   "source": [
    "df.area.hist()"
   ]
  },
  {
   "cell_type": "code",
   "execution_count": 11,
   "id": "62410cca",
   "metadata": {},
   "outputs": [
    {
     "data": {
      "text/plain": [
       "<AxesSubplot:>"
      ]
     },
     "execution_count": 11,
     "metadata": {},
     "output_type": "execute_result"
    },
    {
     "data": {
      "image/png": "[encoded data removed]",
      "text/plain": [
       "<Figure size 432x288 with 1 Axes>"
      ]
     },
     "metadata": {
      "needs_background": "light"
     },
     "output_type": "display_data"
    }
   ],
   "source": [
    "df.bedrooms.hist()"
   ]
  },
  {
   "cell_type": "code",
   "execution_count": 12,
   "id": "c780506d",
   "metadata": {},
   "outputs": [
    {
     "data": {
      "text/plain": [
       "<AxesSubplot:>"
      ]
     },
     "execution_count": 12,
     "metadata": {},
     "output_type": "execute_result"
    },
    {
     "data": {
      "image/png": "[encoded data removed]",
      "text/plain": [
       "<Figure size 432x288 with 1 Axes>"
      ]
     },
     "metadata": {
      "needs_background": "light"
     },
     "output_type": "display_data"
    }
   ],
   "source": [
    "df.bathrooms.hist()"
   ]
  },
  {
   "cell_type": "code",
   "execution_count": 13,
   "id": "0aa76b53",
   "metadata": {},
   "outputs": [
    {
     "data": {
      "text/plain": [
       "<AxesSubplot:>"
      ]
     },
     "execution_count": 13,
     "metadata": {},
     "output_type": "execute_result"
    },
    {
     "data": {
      "image/png": "[encoded data removed]",
      "text/plain": [
       "<Figure size 432x288 with 1 Axes>"
      ]
     },
     "metadata": {
      "needs_background": "light"
     },
     "output_type": "display_data"
    }
   ],
   "source": [
    "df.tax_value.hist()"
   ]
  },
  {
   "cell_type": "markdown",
   "id": "5403d750",
   "metadata": {},
   "source": [
    "### Target Feature - \"tax_value\""
   ]
  },
  {
   "cell_type": "code",
   "execution_count": 26,
   "id": "d08ca47c",
   "metadata": {},
   "outputs": [
    {
     "data": {
      "text/plain": [
       "(1000.0, 23858374.0)"
      ]
     },
     "execution_count": 26,
     "metadata": {},
     "output_type": "execute_result"
    }
   ],
   "source": [
    " df.tax_value.min(), df.tax_value.max()"
   ]
  },
  {
   "cell_type": "code",
   "execution_count": 32,
   "id": "38cfe3b3",
   "metadata": {},
   "outputs": [
    {
     "data": {
      "text/plain": [
       "(-0.001, 1000000.0]       25162\n",
       "(1000000.0, 2000000.0]     2207\n",
       "(2000000.0, 3000000.0]      453\n",
       "(3000000.0, 4000000.0]      139\n",
       "Name: tax_value, dtype: int64"
      ]
     },
     "execution_count": 32,
     "metadata": {},
     "output_type": "execute_result"
    }
   ],
   "source": [
    "df.tax_value.value_counts(bins=[0, 1000000, 2000000, 3000000, 4000000])"
   ]
  },
  {
   "cell_type": "code",
   "execution_count": 31,
   "id": "9117fd49",
   "metadata": {},
   "outputs": [
    {
     "data": {
      "text/plain": [
       "<AxesSubplot:>"
      ]
     },
     "execution_count": 31,
     "metadata": {},
     "output_type": "execute_result"
    },
    {
     "data": {
      "image/png": "[encoded data removed]",
      "text/plain": [
       "<Figure size 432x288 with 1 Axes>"
      ]
     },
     "metadata": {
      "needs_background": "light"
     },
     "output_type": "display_data"
    }
   ],
   "source": [
    "df.boxplot(column=[\"tax_value\"])"
   ]
  },
  {
   "cell_type": "markdown",
   "id": "86252eb6",
   "metadata": {},
   "source": [
    "### Data Dictionary"
   ]
  },
  {
   "cell_type": "markdown",
   "id": "ceeacf59",
   "metadata": {},
   "source": [
    "    Coming soon\n",
    "   "
   ]
  },
  {
   "cell_type": "code",
   "execution_count": null,
   "id": "8817c02e",
   "metadata": {},
   "outputs": [],
   "source": []
  }
 ],
 "metadata": {
  "kernelspec": {
   "display_name": "Python 3",
   "language": "python",
   "name": "python3"
  },
  "language_info": {
   "codemirror_mode": {
    "name": "ipython",
    "version": 3
   },
   "file_extension": ".py",
   "mimetype": "text/x-python",
   "name": "python",
   "nbconvert_exporter": "python",
   "pygments_lexer": "ipython3",
   "version": "3.8.8"
  }
 },
 "nbformat": 4,
 "nbformat_minor": 5
}
